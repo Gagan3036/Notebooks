{
 "cells": [
  {
   "cell_type": "code",
   "execution_count": 1,
   "id": "5528142d",
   "metadata": {
    "_cell_guid": "b1076dfc-b9ad-4769-8c92-a6c4dae69d19",
    "_uuid": "8f2839f25d086af736a60e9eeb907d3b93b6e0e5",
    "execution": {
     "iopub.execute_input": "2024-06-09T15:42:51.861900Z",
     "iopub.status.busy": "2024-06-09T15:42:51.861412Z",
     "iopub.status.idle": "2024-06-09T15:42:52.915033Z",
     "shell.execute_reply": "2024-06-09T15:42:52.913622Z"
    },
    "papermill": {
     "duration": 1.066633,
     "end_time": "2024-06-09T15:42:52.917956",
     "exception": false,
     "start_time": "2024-06-09T15:42:51.851323",
     "status": "completed"
    },
    "tags": []
   },
   "outputs": [],
   "source": [
    "import pandas as pd"
   ]
  },
  {
   "cell_type": "code",
   "execution_count": 2,
   "id": "593db605",
   "metadata": {
    "execution": {
     "iopub.execute_input": "2024-06-09T15:42:52.935138Z",
     "iopub.status.busy": "2024-06-09T15:42:52.933903Z",
     "iopub.status.idle": "2024-06-09T15:42:53.260150Z",
     "shell.execute_reply": "2024-06-09T15:42:53.258522Z"
    },
    "papermill": {
     "duration": 0.337895,
     "end_time": "2024-06-09T15:42:53.263252",
     "exception": false,
     "start_time": "2024-06-09T15:42:52.925357",
     "status": "completed"
    },
    "tags": []
   },
   "outputs": [],
   "source": [
    "admission = pd.read_csv('https://github.com/YBI-Foundation/Dataset/raw/main/Admission%20Chance.csv')"
   ]
  },
  {
   "cell_type": "code",
   "execution_count": 3,
   "id": "b888b707",
   "metadata": {
    "execution": {
     "iopub.execute_input": "2024-06-09T15:42:53.279588Z",
     "iopub.status.busy": "2024-06-09T15:42:53.278676Z",
     "iopub.status.idle": "2024-06-09T15:42:53.308893Z",
     "shell.execute_reply": "2024-06-09T15:42:53.307645Z"
    },
    "papermill": {
     "duration": 0.041208,
     "end_time": "2024-06-09T15:42:53.311563",
     "exception": false,
     "start_time": "2024-06-09T15:42:53.270355",
     "status": "completed"
    },
    "tags": []
   },
   "outputs": [
    {
     "data": {
      "text/html": [
       "<div>\n",
       "<style scoped>\n",
       "    .dataframe tbody tr th:only-of-type {\n",
       "        vertical-align: middle;\n",
       "    }\n",
       "\n",
       "    .dataframe tbody tr th {\n",
       "        vertical-align: top;\n",
       "    }\n",
       "\n",
       "    .dataframe thead th {\n",
       "        text-align: right;\n",
       "    }\n",
       "</style>\n",
       "<table border=\"1\" class=\"dataframe\">\n",
       "  <thead>\n",
       "    <tr style=\"text-align: right;\">\n",
       "      <th></th>\n",
       "      <th>Serial No</th>\n",
       "      <th>GRE Score</th>\n",
       "      <th>TOEFL Score</th>\n",
       "      <th>University Rating</th>\n",
       "      <th>SOP</th>\n",
       "      <th>LOR</th>\n",
       "      <th>CGPA</th>\n",
       "      <th>Research</th>\n",
       "      <th>Chance of Admit</th>\n",
       "    </tr>\n",
       "  </thead>\n",
       "  <tbody>\n",
       "    <tr>\n",
       "      <th>0</th>\n",
       "      <td>1</td>\n",
       "      <td>337</td>\n",
       "      <td>118</td>\n",
       "      <td>4</td>\n",
       "      <td>4.5</td>\n",
       "      <td>4.5</td>\n",
       "      <td>9.65</td>\n",
       "      <td>1</td>\n",
       "      <td>0.92</td>\n",
       "    </tr>\n",
       "    <tr>\n",
       "      <th>1</th>\n",
       "      <td>2</td>\n",
       "      <td>324</td>\n",
       "      <td>107</td>\n",
       "      <td>4</td>\n",
       "      <td>4.0</td>\n",
       "      <td>4.5</td>\n",
       "      <td>8.87</td>\n",
       "      <td>1</td>\n",
       "      <td>0.76</td>\n",
       "    </tr>\n",
       "    <tr>\n",
       "      <th>2</th>\n",
       "      <td>3</td>\n",
       "      <td>316</td>\n",
       "      <td>104</td>\n",
       "      <td>3</td>\n",
       "      <td>3.0</td>\n",
       "      <td>3.5</td>\n",
       "      <td>8.00</td>\n",
       "      <td>1</td>\n",
       "      <td>0.72</td>\n",
       "    </tr>\n",
       "    <tr>\n",
       "      <th>3</th>\n",
       "      <td>4</td>\n",
       "      <td>322</td>\n",
       "      <td>110</td>\n",
       "      <td>3</td>\n",
       "      <td>3.5</td>\n",
       "      <td>2.5</td>\n",
       "      <td>8.67</td>\n",
       "      <td>1</td>\n",
       "      <td>0.80</td>\n",
       "    </tr>\n",
       "    <tr>\n",
       "      <th>4</th>\n",
       "      <td>5</td>\n",
       "      <td>314</td>\n",
       "      <td>103</td>\n",
       "      <td>2</td>\n",
       "      <td>2.0</td>\n",
       "      <td>3.0</td>\n",
       "      <td>8.21</td>\n",
       "      <td>0</td>\n",
       "      <td>0.65</td>\n",
       "    </tr>\n",
       "  </tbody>\n",
       "</table>\n",
       "</div>"
      ],
      "text/plain": [
       "   Serial No  GRE Score  TOEFL Score  University Rating   SOP  LOR   CGPA  \\\n",
       "0          1        337          118                  4   4.5   4.5  9.65   \n",
       "1          2        324          107                  4   4.0   4.5  8.87   \n",
       "2          3        316          104                  3   3.0   3.5  8.00   \n",
       "3          4        322          110                  3   3.5   2.5  8.67   \n",
       "4          5        314          103                  2   2.0   3.0  8.21   \n",
       "\n",
       "   Research  Chance of Admit   \n",
       "0         1              0.92  \n",
       "1         1              0.76  \n",
       "2         1              0.72  \n",
       "3         1              0.80  \n",
       "4         0              0.65  "
      ]
     },
     "execution_count": 3,
     "metadata": {},
     "output_type": "execute_result"
    }
   ],
   "source": [
    "admission.head()"
   ]
  },
  {
   "cell_type": "code",
   "execution_count": 4,
   "id": "56d43c9f",
   "metadata": {
    "execution": {
     "iopub.execute_input": "2024-06-09T15:42:53.329575Z",
     "iopub.status.busy": "2024-06-09T15:42:53.329182Z",
     "iopub.status.idle": "2024-06-09T15:42:53.357356Z",
     "shell.execute_reply": "2024-06-09T15:42:53.355754Z"
    },
    "papermill": {
     "duration": 0.040229,
     "end_time": "2024-06-09T15:42:53.360199",
     "exception": false,
     "start_time": "2024-06-09T15:42:53.319970",
     "status": "completed"
    },
    "tags": []
   },
   "outputs": [
    {
     "name": "stdout",
     "output_type": "stream",
     "text": [
      "<class 'pandas.core.frame.DataFrame'>\n",
      "RangeIndex: 400 entries, 0 to 399\n",
      "Data columns (total 9 columns):\n",
      " #   Column             Non-Null Count  Dtype  \n",
      "---  ------             --------------  -----  \n",
      " 0   Serial No          400 non-null    int64  \n",
      " 1   GRE Score          400 non-null    int64  \n",
      " 2   TOEFL Score        400 non-null    int64  \n",
      " 3   University Rating  400 non-null    int64  \n",
      " 4    SOP               400 non-null    float64\n",
      " 5   LOR                400 non-null    float64\n",
      " 6   CGPA               400 non-null    float64\n",
      " 7   Research           400 non-null    int64  \n",
      " 8   Chance of Admit    400 non-null    float64\n",
      "dtypes: float64(4), int64(5)\n",
      "memory usage: 28.2 KB\n"
     ]
    }
   ],
   "source": [
    "admission.info()"
   ]
  },
  {
   "cell_type": "code",
   "execution_count": 5,
   "id": "e7f18004",
   "metadata": {
    "execution": {
     "iopub.execute_input": "2024-06-09T15:42:53.377045Z",
     "iopub.status.busy": "2024-06-09T15:42:53.376607Z",
     "iopub.status.idle": "2024-06-09T15:42:53.419661Z",
     "shell.execute_reply": "2024-06-09T15:42:53.418137Z"
    },
    "papermill": {
     "duration": 0.056239,
     "end_time": "2024-06-09T15:42:53.423931",
     "exception": false,
     "start_time": "2024-06-09T15:42:53.367692",
     "status": "completed"
    },
    "tags": []
   },
   "outputs": [
    {
     "data": {
      "text/html": [
       "<div>\n",
       "<style scoped>\n",
       "    .dataframe tbody tr th:only-of-type {\n",
       "        vertical-align: middle;\n",
       "    }\n",
       "\n",
       "    .dataframe tbody tr th {\n",
       "        vertical-align: top;\n",
       "    }\n",
       "\n",
       "    .dataframe thead th {\n",
       "        text-align: right;\n",
       "    }\n",
       "</style>\n",
       "<table border=\"1\" class=\"dataframe\">\n",
       "  <thead>\n",
       "    <tr style=\"text-align: right;\">\n",
       "      <th></th>\n",
       "      <th>Serial No</th>\n",
       "      <th>GRE Score</th>\n",
       "      <th>TOEFL Score</th>\n",
       "      <th>University Rating</th>\n",
       "      <th>SOP</th>\n",
       "      <th>LOR</th>\n",
       "      <th>CGPA</th>\n",
       "      <th>Research</th>\n",
       "      <th>Chance of Admit</th>\n",
       "    </tr>\n",
       "  </thead>\n",
       "  <tbody>\n",
       "    <tr>\n",
       "      <th>count</th>\n",
       "      <td>400.000000</td>\n",
       "      <td>400.000000</td>\n",
       "      <td>400.000000</td>\n",
       "      <td>400.000000</td>\n",
       "      <td>400.000000</td>\n",
       "      <td>400.000000</td>\n",
       "      <td>400.000000</td>\n",
       "      <td>400.000000</td>\n",
       "      <td>400.000000</td>\n",
       "    </tr>\n",
       "    <tr>\n",
       "      <th>mean</th>\n",
       "      <td>200.500000</td>\n",
       "      <td>316.807500</td>\n",
       "      <td>107.410000</td>\n",
       "      <td>3.087500</td>\n",
       "      <td>3.400000</td>\n",
       "      <td>3.452500</td>\n",
       "      <td>8.598925</td>\n",
       "      <td>0.547500</td>\n",
       "      <td>0.724350</td>\n",
       "    </tr>\n",
       "    <tr>\n",
       "      <th>std</th>\n",
       "      <td>115.614301</td>\n",
       "      <td>11.473646</td>\n",
       "      <td>6.069514</td>\n",
       "      <td>1.143728</td>\n",
       "      <td>1.006869</td>\n",
       "      <td>0.898478</td>\n",
       "      <td>0.596317</td>\n",
       "      <td>0.498362</td>\n",
       "      <td>0.142609</td>\n",
       "    </tr>\n",
       "    <tr>\n",
       "      <th>min</th>\n",
       "      <td>1.000000</td>\n",
       "      <td>290.000000</td>\n",
       "      <td>92.000000</td>\n",
       "      <td>1.000000</td>\n",
       "      <td>1.000000</td>\n",
       "      <td>1.000000</td>\n",
       "      <td>6.800000</td>\n",
       "      <td>0.000000</td>\n",
       "      <td>0.340000</td>\n",
       "    </tr>\n",
       "    <tr>\n",
       "      <th>25%</th>\n",
       "      <td>100.750000</td>\n",
       "      <td>308.000000</td>\n",
       "      <td>103.000000</td>\n",
       "      <td>2.000000</td>\n",
       "      <td>2.500000</td>\n",
       "      <td>3.000000</td>\n",
       "      <td>8.170000</td>\n",
       "      <td>0.000000</td>\n",
       "      <td>0.640000</td>\n",
       "    </tr>\n",
       "    <tr>\n",
       "      <th>50%</th>\n",
       "      <td>200.500000</td>\n",
       "      <td>317.000000</td>\n",
       "      <td>107.000000</td>\n",
       "      <td>3.000000</td>\n",
       "      <td>3.500000</td>\n",
       "      <td>3.500000</td>\n",
       "      <td>8.610000</td>\n",
       "      <td>1.000000</td>\n",
       "      <td>0.730000</td>\n",
       "    </tr>\n",
       "    <tr>\n",
       "      <th>75%</th>\n",
       "      <td>300.250000</td>\n",
       "      <td>325.000000</td>\n",
       "      <td>112.000000</td>\n",
       "      <td>4.000000</td>\n",
       "      <td>4.000000</td>\n",
       "      <td>4.000000</td>\n",
       "      <td>9.062500</td>\n",
       "      <td>1.000000</td>\n",
       "      <td>0.830000</td>\n",
       "    </tr>\n",
       "    <tr>\n",
       "      <th>max</th>\n",
       "      <td>400.000000</td>\n",
       "      <td>340.000000</td>\n",
       "      <td>120.000000</td>\n",
       "      <td>5.000000</td>\n",
       "      <td>5.000000</td>\n",
       "      <td>5.000000</td>\n",
       "      <td>9.920000</td>\n",
       "      <td>1.000000</td>\n",
       "      <td>0.970000</td>\n",
       "    </tr>\n",
       "  </tbody>\n",
       "</table>\n",
       "</div>"
      ],
      "text/plain": [
       "        Serial No   GRE Score  TOEFL Score  University Rating         SOP  \\\n",
       "count  400.000000  400.000000   400.000000         400.000000  400.000000   \n",
       "mean   200.500000  316.807500   107.410000           3.087500    3.400000   \n",
       "std    115.614301   11.473646     6.069514           1.143728    1.006869   \n",
       "min      1.000000  290.000000    92.000000           1.000000    1.000000   \n",
       "25%    100.750000  308.000000   103.000000           2.000000    2.500000   \n",
       "50%    200.500000  317.000000   107.000000           3.000000    3.500000   \n",
       "75%    300.250000  325.000000   112.000000           4.000000    4.000000   \n",
       "max    400.000000  340.000000   120.000000           5.000000    5.000000   \n",
       "\n",
       "             LOR         CGPA    Research  Chance of Admit   \n",
       "count  400.000000  400.000000  400.000000        400.000000  \n",
       "mean     3.452500    8.598925    0.547500          0.724350  \n",
       "std      0.898478    0.596317    0.498362          0.142609  \n",
       "min      1.000000    6.800000    0.000000          0.340000  \n",
       "25%      3.000000    8.170000    0.000000          0.640000  \n",
       "50%      3.500000    8.610000    1.000000          0.730000  \n",
       "75%      4.000000    9.062500    1.000000          0.830000  \n",
       "max      5.000000    9.920000    1.000000          0.970000  "
      ]
     },
     "execution_count": 5,
     "metadata": {},
     "output_type": "execute_result"
    }
   ],
   "source": [
    "admission.describe()"
   ]
  },
  {
   "cell_type": "code",
   "execution_count": 6,
   "id": "9bcc31b5",
   "metadata": {
    "execution": {
     "iopub.execute_input": "2024-06-09T15:42:53.442093Z",
     "iopub.status.busy": "2024-06-09T15:42:53.440943Z",
     "iopub.status.idle": "2024-06-09T15:42:53.449080Z",
     "shell.execute_reply": "2024-06-09T15:42:53.447642Z"
    },
    "papermill": {
     "duration": 0.020322,
     "end_time": "2024-06-09T15:42:53.452113",
     "exception": false,
     "start_time": "2024-06-09T15:42:53.431791",
     "status": "completed"
    },
    "tags": []
   },
   "outputs": [
    {
     "data": {
      "text/plain": [
       "Index(['Serial No', 'GRE Score', 'TOEFL Score', 'University Rating', ' SOP',\n",
       "       'LOR ', 'CGPA', 'Research', 'Chance of Admit '],\n",
       "      dtype='object')"
      ]
     },
     "execution_count": 6,
     "metadata": {},
     "output_type": "execute_result"
    }
   ],
   "source": [
    "admission.columns"
   ]
  },
  {
   "cell_type": "code",
   "execution_count": 7,
   "id": "fb69d31b",
   "metadata": {
    "execution": {
     "iopub.execute_input": "2024-06-09T15:42:53.471350Z",
     "iopub.status.busy": "2024-06-09T15:42:53.469650Z",
     "iopub.status.idle": "2024-06-09T15:42:53.476368Z",
     "shell.execute_reply": "2024-06-09T15:42:53.474935Z"
    },
    "papermill": {
     "duration": 0.01924,
     "end_time": "2024-06-09T15:42:53.479285",
     "exception": false,
     "start_time": "2024-06-09T15:42:53.460045",
     "status": "completed"
    },
    "tags": []
   },
   "outputs": [],
   "source": [
    "y = admission['Chance of Admit ']"
   ]
  },
  {
   "cell_type": "code",
   "execution_count": 8,
   "id": "24cf7d58",
   "metadata": {
    "execution": {
     "iopub.execute_input": "2024-06-09T15:42:53.498239Z",
     "iopub.status.busy": "2024-06-09T15:42:53.497023Z",
     "iopub.status.idle": "2024-06-09T15:42:53.505311Z",
     "shell.execute_reply": "2024-06-09T15:42:53.504038Z"
    },
    "papermill": {
     "duration": 0.02062,
     "end_time": "2024-06-09T15:42:53.508241",
     "exception": false,
     "start_time": "2024-06-09T15:42:53.487621",
     "status": "completed"
    },
    "tags": []
   },
   "outputs": [],
   "source": [
    "X = admission[['Serial No', 'GRE Score', 'TOEFL Score', 'University Rating', ' SOP',\n",
    "       'LOR ', 'CGPA', 'Research']]"
   ]
  },
  {
   "cell_type": "code",
   "execution_count": 9,
   "id": "cc115e65",
   "metadata": {
    "execution": {
     "iopub.execute_input": "2024-06-09T15:42:53.526395Z",
     "iopub.status.busy": "2024-06-09T15:42:53.526010Z",
     "iopub.status.idle": "2024-06-09T15:42:55.163150Z",
     "shell.execute_reply": "2024-06-09T15:42:55.162068Z"
    },
    "papermill": {
     "duration": 1.649308,
     "end_time": "2024-06-09T15:42:55.165993",
     "exception": false,
     "start_time": "2024-06-09T15:42:53.516685",
     "status": "completed"
    },
    "tags": []
   },
   "outputs": [],
   "source": [
    "from sklearn.model_selection import train_test_split"
   ]
  },
  {
   "cell_type": "code",
   "execution_count": 10,
   "id": "353c81ac",
   "metadata": {
    "execution": {
     "iopub.execute_input": "2024-06-09T15:42:55.184015Z",
     "iopub.status.busy": "2024-06-09T15:42:55.183573Z",
     "iopub.status.idle": "2024-06-09T15:42:55.194357Z",
     "shell.execute_reply": "2024-06-09T15:42:55.193166Z"
    },
    "papermill": {
     "duration": 0.023121,
     "end_time": "2024-06-09T15:42:55.197202",
     "exception": false,
     "start_time": "2024-06-09T15:42:55.174081",
     "status": "completed"
    },
    "tags": []
   },
   "outputs": [],
   "source": [
    "X_train, X_test, y_train, y_test = train_test_split(X, y, train_size = 0.7, random_state = 2529)"
   ]
  },
  {
   "cell_type": "code",
   "execution_count": 11,
   "id": "2da21501",
   "metadata": {
    "execution": {
     "iopub.execute_input": "2024-06-09T15:42:55.215395Z",
     "iopub.status.busy": "2024-06-09T15:42:55.214499Z",
     "iopub.status.idle": "2024-06-09T15:42:55.222383Z",
     "shell.execute_reply": "2024-06-09T15:42:55.221214Z"
    },
    "papermill": {
     "duration": 0.01982,
     "end_time": "2024-06-09T15:42:55.225031",
     "exception": false,
     "start_time": "2024-06-09T15:42:55.205211",
     "status": "completed"
    },
    "tags": []
   },
   "outputs": [
    {
     "data": {
      "text/plain": [
       "((280, 8), (120, 8), (280,), (120,))"
      ]
     },
     "execution_count": 11,
     "metadata": {},
     "output_type": "execute_result"
    }
   ],
   "source": [
    "X_train.shape, X_test.shape, y_train.shape, y_test.shape"
   ]
  },
  {
   "cell_type": "code",
   "execution_count": 12,
   "id": "674197ef",
   "metadata": {
    "execution": {
     "iopub.execute_input": "2024-06-09T15:42:55.243925Z",
     "iopub.status.busy": "2024-06-09T15:42:55.243105Z",
     "iopub.status.idle": "2024-06-09T15:42:55.360062Z",
     "shell.execute_reply": "2024-06-09T15:42:55.358929Z"
    },
    "papermill": {
     "duration": 0.129649,
     "end_time": "2024-06-09T15:42:55.362960",
     "exception": false,
     "start_time": "2024-06-09T15:42:55.233311",
     "status": "completed"
    },
    "tags": []
   },
   "outputs": [],
   "source": [
    "from sklearn.linear_model import LinearRegression \n",
    "model = LinearRegression()"
   ]
  },
  {
   "cell_type": "code",
   "execution_count": 13,
   "id": "08906bdf",
   "metadata": {
    "execution": {
     "iopub.execute_input": "2024-06-09T15:42:55.381052Z",
     "iopub.status.busy": "2024-06-09T15:42:55.380606Z",
     "iopub.status.idle": "2024-06-09T15:42:55.415880Z",
     "shell.execute_reply": "2024-06-09T15:42:55.414402Z"
    },
    "papermill": {
     "duration": 0.047518,
     "end_time": "2024-06-09T15:42:55.418627",
     "exception": false,
     "start_time": "2024-06-09T15:42:55.371109",
     "status": "completed"
    },
    "tags": []
   },
   "outputs": [
    {
     "data": {
      "text/html": [
       "<style>#sk-container-id-1 {color: black;background-color: white;}#sk-container-id-1 pre{padding: 0;}#sk-container-id-1 div.sk-toggleable {background-color: white;}#sk-container-id-1 label.sk-toggleable__label {cursor: pointer;display: block;width: 100%;margin-bottom: 0;padding: 0.3em;box-sizing: border-box;text-align: center;}#sk-container-id-1 label.sk-toggleable__label-arrow:before {content: \"▸\";float: left;margin-right: 0.25em;color: #696969;}#sk-container-id-1 label.sk-toggleable__label-arrow:hover:before {color: black;}#sk-container-id-1 div.sk-estimator:hover label.sk-toggleable__label-arrow:before {color: black;}#sk-container-id-1 div.sk-toggleable__content {max-height: 0;max-width: 0;overflow: hidden;text-align: left;background-color: #f0f8ff;}#sk-container-id-1 div.sk-toggleable__content pre {margin: 0.2em;color: black;border-radius: 0.25em;background-color: #f0f8ff;}#sk-container-id-1 input.sk-toggleable__control:checked~div.sk-toggleable__content {max-height: 200px;max-width: 100%;overflow: auto;}#sk-container-id-1 input.sk-toggleable__control:checked~label.sk-toggleable__label-arrow:before {content: \"▾\";}#sk-container-id-1 div.sk-estimator input.sk-toggleable__control:checked~label.sk-toggleable__label {background-color: #d4ebff;}#sk-container-id-1 div.sk-label input.sk-toggleable__control:checked~label.sk-toggleable__label {background-color: #d4ebff;}#sk-container-id-1 input.sk-hidden--visually {border: 0;clip: rect(1px 1px 1px 1px);clip: rect(1px, 1px, 1px, 1px);height: 1px;margin: -1px;overflow: hidden;padding: 0;position: absolute;width: 1px;}#sk-container-id-1 div.sk-estimator {font-family: monospace;background-color: #f0f8ff;border: 1px dotted black;border-radius: 0.25em;box-sizing: border-box;margin-bottom: 0.5em;}#sk-container-id-1 div.sk-estimator:hover {background-color: #d4ebff;}#sk-container-id-1 div.sk-parallel-item::after {content: \"\";width: 100%;border-bottom: 1px solid gray;flex-grow: 1;}#sk-container-id-1 div.sk-label:hover label.sk-toggleable__label {background-color: #d4ebff;}#sk-container-id-1 div.sk-serial::before {content: \"\";position: absolute;border-left: 1px solid gray;box-sizing: border-box;top: 0;bottom: 0;left: 50%;z-index: 0;}#sk-container-id-1 div.sk-serial {display: flex;flex-direction: column;align-items: center;background-color: white;padding-right: 0.2em;padding-left: 0.2em;position: relative;}#sk-container-id-1 div.sk-item {position: relative;z-index: 1;}#sk-container-id-1 div.sk-parallel {display: flex;align-items: stretch;justify-content: center;background-color: white;position: relative;}#sk-container-id-1 div.sk-item::before, #sk-container-id-1 div.sk-parallel-item::before {content: \"\";position: absolute;border-left: 1px solid gray;box-sizing: border-box;top: 0;bottom: 0;left: 50%;z-index: -1;}#sk-container-id-1 div.sk-parallel-item {display: flex;flex-direction: column;z-index: 1;position: relative;background-color: white;}#sk-container-id-1 div.sk-parallel-item:first-child::after {align-self: flex-end;width: 50%;}#sk-container-id-1 div.sk-parallel-item:last-child::after {align-self: flex-start;width: 50%;}#sk-container-id-1 div.sk-parallel-item:only-child::after {width: 0;}#sk-container-id-1 div.sk-dashed-wrapped {border: 1px dashed gray;margin: 0 0.4em 0.5em 0.4em;box-sizing: border-box;padding-bottom: 0.4em;background-color: white;}#sk-container-id-1 div.sk-label label {font-family: monospace;font-weight: bold;display: inline-block;line-height: 1.2em;}#sk-container-id-1 div.sk-label-container {text-align: center;}#sk-container-id-1 div.sk-container {/* jupyter's `normalize.less` sets `[hidden] { display: none; }` but bootstrap.min.css set `[hidden] { display: none !important; }` so we also need the `!important` here to be able to override the default hidden behavior on the sphinx rendered scikit-learn.org. See: https://github.com/scikit-learn/scikit-learn/issues/21755 */display: inline-block !important;position: relative;}#sk-container-id-1 div.sk-text-repr-fallback {display: none;}</style><div id=\"sk-container-id-1\" class=\"sk-top-container\"><div class=\"sk-text-repr-fallback\"><pre>LinearRegression()</pre><b>In a Jupyter environment, please rerun this cell to show the HTML representation or trust the notebook. <br />On GitHub, the HTML representation is unable to render, please try loading this page with nbviewer.org.</b></div><div class=\"sk-container\" hidden><div class=\"sk-item\"><div class=\"sk-estimator sk-toggleable\"><input class=\"sk-toggleable__control sk-hidden--visually\" id=\"sk-estimator-id-1\" type=\"checkbox\" checked><label for=\"sk-estimator-id-1\" class=\"sk-toggleable__label sk-toggleable__label-arrow\">LinearRegression</label><div class=\"sk-toggleable__content\"><pre>LinearRegression()</pre></div></div></div></div></div>"
      ],
      "text/plain": [
       "LinearRegression()"
      ]
     },
     "execution_count": 13,
     "metadata": {},
     "output_type": "execute_result"
    }
   ],
   "source": [
    "model.fit(X_train, y_train)"
   ]
  },
  {
   "cell_type": "code",
   "execution_count": 14,
   "id": "216fbc4c",
   "metadata": {
    "execution": {
     "iopub.execute_input": "2024-06-09T15:42:55.438579Z",
     "iopub.status.busy": "2024-06-09T15:42:55.437608Z",
     "iopub.status.idle": "2024-06-09T15:42:55.444224Z",
     "shell.execute_reply": "2024-06-09T15:42:55.443063Z"
    },
    "papermill": {
     "duration": 0.019552,
     "end_time": "2024-06-09T15:42:55.447015",
     "exception": false,
     "start_time": "2024-06-09T15:42:55.427463",
     "status": "completed"
    },
    "tags": []
   },
   "outputs": [
    {
     "name": "stdout",
     "output_type": "stream",
     "text": [
      "-1.3491869284562994\n",
      "[ 0.00018075  0.00217672  0.00396487  0.00836627 -0.00080004  0.02030329\n",
      "  0.09551552  0.01979659]\n"
     ]
    }
   ],
   "source": [
    "print(model.intercept_)\n",
    "print(model.coef_)"
   ]
  },
  {
   "cell_type": "code",
   "execution_count": 15,
   "id": "b33ad6a8",
   "metadata": {
    "execution": {
     "iopub.execute_input": "2024-06-09T15:42:55.465930Z",
     "iopub.status.busy": "2024-06-09T15:42:55.465517Z",
     "iopub.status.idle": "2024-06-09T15:42:55.477629Z",
     "shell.execute_reply": "2024-06-09T15:42:55.476033Z"
    },
    "papermill": {
     "duration": 0.025091,
     "end_time": "2024-06-09T15:42:55.480515",
     "exception": false,
     "start_time": "2024-06-09T15:42:55.455424",
     "status": "completed"
    },
    "tags": []
   },
   "outputs": [
    {
     "data": {
      "text/plain": [
       "array([0.71638511, 0.75610311, 0.68760789, 0.68124699, 0.56927168,\n",
       "       0.91423484, 0.90562753, 0.72569757, 0.79088749, 0.59675934,\n",
       "       0.59489304, 0.80774252, 0.54572472, 0.77132503, 0.8737274 ,\n",
       "       0.66751677, 0.61934136, 0.67447953, 0.73484064, 0.84425246,\n",
       "       0.62922545, 0.86090216, 0.82814605, 0.9151533 , 0.68755296,\n",
       "       0.63544487, 0.6134806 , 0.57723203, 0.51557048, 0.61715529,\n",
       "       0.52595747, 0.76388331, 0.69695739, 0.75953801, 0.62049587,\n",
       "       0.53097396, 0.40200383, 0.87065079, 0.92286173, 0.78952969,\n",
       "       0.71932513, 0.73604218, 0.70278395, 0.90704   , 0.80062706,\n",
       "       0.81781888, 0.91769447, 0.86667679, 0.58887763, 0.48098577,\n",
       "       0.62564848, 0.61917228, 0.8041983 , 0.46620308, 0.71182598,\n",
       "       0.74243792, 0.69141228, 0.63484399, 0.82789223, 0.6680648 ,\n",
       "       0.64158042, 0.93553342, 0.66537654, 0.65115639, 0.73074156,\n",
       "       0.69630576, 0.59954454, 0.91516057, 0.57456458, 0.90601273,\n",
       "       0.5702746 , 0.92658714, 0.62468054, 0.71689836, 0.5250502 ,\n",
       "       0.86364436, 0.60792138, 0.72722255, 0.66042681, 0.82080932,\n",
       "       0.7225671 , 0.89929811, 0.67637301, 0.49554676, 0.75688317,\n",
       "       0.64865133, 0.77128243, 0.57848782, 0.79141629, 0.67201156,\n",
       "       0.68439077, 0.68509744, 0.91922614, 0.67840876, 0.65244089,\n",
       "       0.64779263, 0.77551969, 0.67516585, 0.76765527, 0.60929075,\n",
       "       0.96500346, 0.69771574, 0.97109768, 0.8244446 , 0.80824716,\n",
       "       0.86627331, 0.65875764, 0.69147515, 0.60381244, 0.59431034,\n",
       "       0.81010835, 0.69414677, 0.76932107, 0.57984938, 0.54290832,\n",
       "       0.73859636, 0.70651852, 0.62741334, 0.84271712, 0.66928116])"
      ]
     },
     "execution_count": 15,
     "metadata": {},
     "output_type": "execute_result"
    }
   ],
   "source": [
    "y_pred = model.predict(X_test)\n",
    "y_pred"
   ]
  },
  {
   "cell_type": "code",
   "execution_count": 16,
   "id": "b9122215",
   "metadata": {
    "execution": {
     "iopub.execute_input": "2024-06-09T15:42:55.501590Z",
     "iopub.status.busy": "2024-06-09T15:42:55.501130Z",
     "iopub.status.idle": "2024-06-09T15:42:55.507120Z",
     "shell.execute_reply": "2024-06-09T15:42:55.505694Z"
    },
    "papermill": {
     "duration": 0.02006,
     "end_time": "2024-06-09T15:42:55.510074",
     "exception": false,
     "start_time": "2024-06-09T15:42:55.490014",
     "status": "completed"
    },
    "tags": []
   },
   "outputs": [],
   "source": [
    "from sklearn.metrics import mean_absolute_error, mean_absolute_percentage_error, mean_squared_error"
   ]
  },
  {
   "cell_type": "code",
   "execution_count": 17,
   "id": "edc23f8a",
   "metadata": {
    "execution": {
     "iopub.execute_input": "2024-06-09T15:42:55.530182Z",
     "iopub.status.busy": "2024-06-09T15:42:55.529753Z",
     "iopub.status.idle": "2024-06-09T15:42:55.538513Z",
     "shell.execute_reply": "2024-06-09T15:42:55.537401Z"
    },
    "papermill": {
     "duration": 0.021527,
     "end_time": "2024-06-09T15:42:55.541048",
     "exception": false,
     "start_time": "2024-06-09T15:42:55.519521",
     "status": "completed"
    },
    "tags": []
   },
   "outputs": [
    {
     "data": {
      "text/plain": [
       "0.043087147233558505"
      ]
     },
     "execution_count": 17,
     "metadata": {},
     "output_type": "execute_result"
    }
   ],
   "source": [
    "mean_absolute_error(y_test, y_pred)"
   ]
  },
  {
   "cell_type": "code",
   "execution_count": 18,
   "id": "6d54da11",
   "metadata": {
    "execution": {
     "iopub.execute_input": "2024-06-09T15:42:55.560666Z",
     "iopub.status.busy": "2024-06-09T15:42:55.560286Z",
     "iopub.status.idle": "2024-06-09T15:42:55.568583Z",
     "shell.execute_reply": "2024-06-09T15:42:55.567513Z"
    },
    "papermill": {
     "duration": 0.020978,
     "end_time": "2024-06-09T15:42:55.571051",
     "exception": false,
     "start_time": "2024-06-09T15:42:55.550073",
     "status": "completed"
    },
    "tags": []
   },
   "outputs": [
    {
     "data": {
      "text/plain": [
       "0.07400437276133896"
      ]
     },
     "execution_count": 18,
     "metadata": {},
     "output_type": "execute_result"
    }
   ],
   "source": [
    "mean_absolute_percentage_error(y_test, y_pred)"
   ]
  },
  {
   "cell_type": "code",
   "execution_count": 19,
   "id": "a396c219",
   "metadata": {
    "execution": {
     "iopub.execute_input": "2024-06-09T15:42:55.590884Z",
     "iopub.status.busy": "2024-06-09T15:42:55.590443Z",
     "iopub.status.idle": "2024-06-09T15:42:55.598959Z",
     "shell.execute_reply": "2024-06-09T15:42:55.597812Z"
    },
    "papermill": {
     "duration": 0.02163,
     "end_time": "2024-06-09T15:42:55.601610",
     "exception": false,
     "start_time": "2024-06-09T15:42:55.579980",
     "status": "completed"
    },
    "tags": []
   },
   "outputs": [
    {
     "data": {
      "text/plain": [
       "0.003922607781791491"
      ]
     },
     "execution_count": 19,
     "metadata": {},
     "output_type": "execute_result"
    }
   ],
   "source": [
    "mean_squared_error(y_test, y_pred)"
   ]
  },
  {
   "cell_type": "code",
   "execution_count": null,
   "id": "f0eaba93",
   "metadata": {
    "papermill": {
     "duration": 0.00872,
     "end_time": "2024-06-09T15:42:55.619419",
     "exception": false,
     "start_time": "2024-06-09T15:42:55.610699",
     "status": "completed"
    },
    "tags": []
   },
   "outputs": [],
   "source": []
  }
 ],
 "metadata": {
  "kaggle": {
   "accelerator": "none",
   "dataSources": [],
   "dockerImageVersionId": 30732,
   "isGpuEnabled": false,
   "isInternetEnabled": true,
   "language": "python",
   "sourceType": "notebook"
  },
  "kernelspec": {
   "display_name": "Python 3",
   "language": "python",
   "name": "python3"
  },
  "language_info": {
   "codemirror_mode": {
    "name": "ipython",
    "version": 3
   },
   "file_extension": ".py",
   "mimetype": "text/x-python",
   "name": "python",
   "nbconvert_exporter": "python",
   "pygments_lexer": "ipython3",
   "version": "3.10.13"
  },
  "papermill": {
   "default_parameters": {},
   "duration": 7.728763,
   "end_time": "2024-06-09T15:42:56.251099",
   "environment_variables": {},
   "exception": null,
   "input_path": "__notebook__.ipynb",
   "output_path": "__notebook__.ipynb",
   "parameters": {},
   "start_time": "2024-06-09T15:42:48.522336",
   "version": "2.5.0"
  }
 },
 "nbformat": 4,
 "nbformat_minor": 5
}

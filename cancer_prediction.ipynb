{
 "cells": [
  {
   "cell_type": "code",
   "execution_count": 1,
   "id": "369675df",
   "metadata": {
    "_cell_guid": "b1076dfc-b9ad-4769-8c92-a6c4dae69d19",
    "_uuid": "8f2839f25d086af736a60e9eeb907d3b93b6e0e5",
    "execution": {
     "iopub.execute_input": "2024-06-09T16:57:23.522116Z",
     "iopub.status.busy": "2024-06-09T16:57:23.521632Z",
     "iopub.status.idle": "2024-06-09T16:57:24.580915Z",
     "shell.execute_reply": "2024-06-09T16:57:24.579703Z"
    },
    "papermill": {
     "duration": 1.070789,
     "end_time": "2024-06-09T16:57:24.584161",
     "exception": false,
     "start_time": "2024-06-09T16:57:23.513372",
     "status": "completed"
    },
    "tags": []
   },
   "outputs": [],
   "source": [
    "import pandas as pd"
   ]
  },
  {
   "cell_type": "code",
   "execution_count": 2,
   "id": "7826d209",
   "metadata": {
    "execution": {
     "iopub.execute_input": "2024-06-09T16:57:24.598900Z",
     "iopub.status.busy": "2024-06-09T16:57:24.598373Z",
     "iopub.status.idle": "2024-06-09T16:57:24.904793Z",
     "shell.execute_reply": "2024-06-09T16:57:24.903493Z"
    },
    "papermill": {
     "duration": 0.316909,
     "end_time": "2024-06-09T16:57:24.907847",
     "exception": false,
     "start_time": "2024-06-09T16:57:24.590938",
     "status": "completed"
    },
    "tags": []
   },
   "outputs": [],
   "source": [
    "df = pd.read_csv('https://github.com/YBIFoundation/Dataset/raw/main/Cancer.csv')"
   ]
  },
  {
   "cell_type": "code",
   "execution_count": 3,
   "id": "77d92dfc",
   "metadata": {
    "execution": {
     "iopub.execute_input": "2024-06-09T16:57:24.921688Z",
     "iopub.status.busy": "2024-06-09T16:57:24.921288Z",
     "iopub.status.idle": "2024-06-09T16:57:24.954453Z",
     "shell.execute_reply": "2024-06-09T16:57:24.953096Z"
    },
    "papermill": {
     "duration": 0.043909,
     "end_time": "2024-06-09T16:57:24.957797",
     "exception": false,
     "start_time": "2024-06-09T16:57:24.913888",
     "status": "completed"
    },
    "tags": []
   },
   "outputs": [
    {
     "name": "stdout",
     "output_type": "stream",
     "text": [
      "<class 'pandas.core.frame.DataFrame'>\n",
      "RangeIndex: 569 entries, 0 to 568\n",
      "Data columns (total 33 columns):\n",
      " #   Column                   Non-Null Count  Dtype  \n",
      "---  ------                   --------------  -----  \n",
      " 0   id                       569 non-null    int64  \n",
      " 1   diagnosis                569 non-null    object \n",
      " 2   radius_mean              569 non-null    float64\n",
      " 3   texture_mean             569 non-null    float64\n",
      " 4   perimeter_mean           569 non-null    float64\n",
      " 5   area_mean                569 non-null    float64\n",
      " 6   smoothness_mean          569 non-null    float64\n",
      " 7   compactness_mean         569 non-null    float64\n",
      " 8   concavity_mean           569 non-null    float64\n",
      " 9   concave points_mean      569 non-null    float64\n",
      " 10  symmetry_mean            569 non-null    float64\n",
      " 11  fractal_dimension_mean   569 non-null    float64\n",
      " 12  radius_se                569 non-null    float64\n",
      " 13  texture_se               569 non-null    float64\n",
      " 14  perimeter_se             569 non-null    float64\n",
      " 15  area_se                  569 non-null    float64\n",
      " 16  smoothness_se            569 non-null    float64\n",
      " 17  compactness_se           569 non-null    float64\n",
      " 18  concavity_se             569 non-null    float64\n",
      " 19  concave points_se        569 non-null    float64\n",
      " 20  symmetry_se              569 non-null    float64\n",
      " 21  fractal_dimension_se     569 non-null    float64\n",
      " 22  radius_worst             569 non-null    float64\n",
      " 23  texture_worst            569 non-null    float64\n",
      " 24  perimeter_worst          569 non-null    float64\n",
      " 25  area_worst               569 non-null    float64\n",
      " 26  smoothness_worst         569 non-null    float64\n",
      " 27  compactness_worst        569 non-null    float64\n",
      " 28  concavity_worst          569 non-null    float64\n",
      " 29  concave points_worst     569 non-null    float64\n",
      " 30  symmetry_worst           569 non-null    float64\n",
      " 31  fractal_dimension_worst  569 non-null    float64\n",
      " 32  Unnamed: 32              0 non-null      float64\n",
      "dtypes: float64(31), int64(1), object(1)\n",
      "memory usage: 146.8+ KB\n"
     ]
    }
   ],
   "source": [
    "df.info()"
   ]
  },
  {
   "cell_type": "code",
   "execution_count": 4,
   "id": "d733353f",
   "metadata": {
    "execution": {
     "iopub.execute_input": "2024-06-09T16:57:24.973299Z",
     "iopub.status.busy": "2024-06-09T16:57:24.972164Z",
     "iopub.status.idle": "2024-06-09T16:57:25.011642Z",
     "shell.execute_reply": "2024-06-09T16:57:25.010314Z"
    },
    "papermill": {
     "duration": 0.050169,
     "end_time": "2024-06-09T16:57:25.014510",
     "exception": false,
     "start_time": "2024-06-09T16:57:24.964341",
     "status": "completed"
    },
    "tags": []
   },
   "outputs": [
    {
     "data": {
      "text/html": [
       "<div>\n",
       "<style scoped>\n",
       "    .dataframe tbody tr th:only-of-type {\n",
       "        vertical-align: middle;\n",
       "    }\n",
       "\n",
       "    .dataframe tbody tr th {\n",
       "        vertical-align: top;\n",
       "    }\n",
       "\n",
       "    .dataframe thead th {\n",
       "        text-align: right;\n",
       "    }\n",
       "</style>\n",
       "<table border=\"1\" class=\"dataframe\">\n",
       "  <thead>\n",
       "    <tr style=\"text-align: right;\">\n",
       "      <th></th>\n",
       "      <th>id</th>\n",
       "      <th>diagnosis</th>\n",
       "      <th>radius_mean</th>\n",
       "      <th>texture_mean</th>\n",
       "      <th>perimeter_mean</th>\n",
       "      <th>area_mean</th>\n",
       "      <th>smoothness_mean</th>\n",
       "      <th>compactness_mean</th>\n",
       "      <th>concavity_mean</th>\n",
       "      <th>concave points_mean</th>\n",
       "      <th>...</th>\n",
       "      <th>texture_worst</th>\n",
       "      <th>perimeter_worst</th>\n",
       "      <th>area_worst</th>\n",
       "      <th>smoothness_worst</th>\n",
       "      <th>compactness_worst</th>\n",
       "      <th>concavity_worst</th>\n",
       "      <th>concave points_worst</th>\n",
       "      <th>symmetry_worst</th>\n",
       "      <th>fractal_dimension_worst</th>\n",
       "      <th>Unnamed: 32</th>\n",
       "    </tr>\n",
       "  </thead>\n",
       "  <tbody>\n",
       "    <tr>\n",
       "      <th>0</th>\n",
       "      <td>842302</td>\n",
       "      <td>M</td>\n",
       "      <td>17.99</td>\n",
       "      <td>10.38</td>\n",
       "      <td>122.80</td>\n",
       "      <td>1001.0</td>\n",
       "      <td>0.11840</td>\n",
       "      <td>0.27760</td>\n",
       "      <td>0.3001</td>\n",
       "      <td>0.14710</td>\n",
       "      <td>...</td>\n",
       "      <td>17.33</td>\n",
       "      <td>184.60</td>\n",
       "      <td>2019.0</td>\n",
       "      <td>0.1622</td>\n",
       "      <td>0.6656</td>\n",
       "      <td>0.7119</td>\n",
       "      <td>0.2654</td>\n",
       "      <td>0.4601</td>\n",
       "      <td>0.11890</td>\n",
       "      <td>NaN</td>\n",
       "    </tr>\n",
       "    <tr>\n",
       "      <th>1</th>\n",
       "      <td>842517</td>\n",
       "      <td>M</td>\n",
       "      <td>20.57</td>\n",
       "      <td>17.77</td>\n",
       "      <td>132.90</td>\n",
       "      <td>1326.0</td>\n",
       "      <td>0.08474</td>\n",
       "      <td>0.07864</td>\n",
       "      <td>0.0869</td>\n",
       "      <td>0.07017</td>\n",
       "      <td>...</td>\n",
       "      <td>23.41</td>\n",
       "      <td>158.80</td>\n",
       "      <td>1956.0</td>\n",
       "      <td>0.1238</td>\n",
       "      <td>0.1866</td>\n",
       "      <td>0.2416</td>\n",
       "      <td>0.1860</td>\n",
       "      <td>0.2750</td>\n",
       "      <td>0.08902</td>\n",
       "      <td>NaN</td>\n",
       "    </tr>\n",
       "    <tr>\n",
       "      <th>2</th>\n",
       "      <td>84300903</td>\n",
       "      <td>M</td>\n",
       "      <td>19.69</td>\n",
       "      <td>21.25</td>\n",
       "      <td>130.00</td>\n",
       "      <td>1203.0</td>\n",
       "      <td>0.10960</td>\n",
       "      <td>0.15990</td>\n",
       "      <td>0.1974</td>\n",
       "      <td>0.12790</td>\n",
       "      <td>...</td>\n",
       "      <td>25.53</td>\n",
       "      <td>152.50</td>\n",
       "      <td>1709.0</td>\n",
       "      <td>0.1444</td>\n",
       "      <td>0.4245</td>\n",
       "      <td>0.4504</td>\n",
       "      <td>0.2430</td>\n",
       "      <td>0.3613</td>\n",
       "      <td>0.08758</td>\n",
       "      <td>NaN</td>\n",
       "    </tr>\n",
       "    <tr>\n",
       "      <th>3</th>\n",
       "      <td>84348301</td>\n",
       "      <td>M</td>\n",
       "      <td>11.42</td>\n",
       "      <td>20.38</td>\n",
       "      <td>77.58</td>\n",
       "      <td>386.1</td>\n",
       "      <td>0.14250</td>\n",
       "      <td>0.28390</td>\n",
       "      <td>0.2414</td>\n",
       "      <td>0.10520</td>\n",
       "      <td>...</td>\n",
       "      <td>26.50</td>\n",
       "      <td>98.87</td>\n",
       "      <td>567.7</td>\n",
       "      <td>0.2098</td>\n",
       "      <td>0.8663</td>\n",
       "      <td>0.6869</td>\n",
       "      <td>0.2575</td>\n",
       "      <td>0.6638</td>\n",
       "      <td>0.17300</td>\n",
       "      <td>NaN</td>\n",
       "    </tr>\n",
       "    <tr>\n",
       "      <th>4</th>\n",
       "      <td>84358402</td>\n",
       "      <td>M</td>\n",
       "      <td>20.29</td>\n",
       "      <td>14.34</td>\n",
       "      <td>135.10</td>\n",
       "      <td>1297.0</td>\n",
       "      <td>0.10030</td>\n",
       "      <td>0.13280</td>\n",
       "      <td>0.1980</td>\n",
       "      <td>0.10430</td>\n",
       "      <td>...</td>\n",
       "      <td>16.67</td>\n",
       "      <td>152.20</td>\n",
       "      <td>1575.0</td>\n",
       "      <td>0.1374</td>\n",
       "      <td>0.2050</td>\n",
       "      <td>0.4000</td>\n",
       "      <td>0.1625</td>\n",
       "      <td>0.2364</td>\n",
       "      <td>0.07678</td>\n",
       "      <td>NaN</td>\n",
       "    </tr>\n",
       "  </tbody>\n",
       "</table>\n",
       "<p>5 rows × 33 columns</p>\n",
       "</div>"
      ],
      "text/plain": [
       "         id diagnosis  radius_mean  texture_mean  perimeter_mean  area_mean  \\\n",
       "0    842302         M        17.99         10.38          122.80     1001.0   \n",
       "1    842517         M        20.57         17.77          132.90     1326.0   \n",
       "2  84300903         M        19.69         21.25          130.00     1203.0   \n",
       "3  84348301         M        11.42         20.38           77.58      386.1   \n",
       "4  84358402         M        20.29         14.34          135.10     1297.0   \n",
       "\n",
       "   smoothness_mean  compactness_mean  concavity_mean  concave points_mean  \\\n",
       "0          0.11840           0.27760          0.3001              0.14710   \n",
       "1          0.08474           0.07864          0.0869              0.07017   \n",
       "2          0.10960           0.15990          0.1974              0.12790   \n",
       "3          0.14250           0.28390          0.2414              0.10520   \n",
       "4          0.10030           0.13280          0.1980              0.10430   \n",
       "\n",
       "   ...  texture_worst  perimeter_worst  area_worst  smoothness_worst  \\\n",
       "0  ...          17.33           184.60      2019.0            0.1622   \n",
       "1  ...          23.41           158.80      1956.0            0.1238   \n",
       "2  ...          25.53           152.50      1709.0            0.1444   \n",
       "3  ...          26.50            98.87       567.7            0.2098   \n",
       "4  ...          16.67           152.20      1575.0            0.1374   \n",
       "\n",
       "   compactness_worst  concavity_worst  concave points_worst  symmetry_worst  \\\n",
       "0             0.6656           0.7119                0.2654          0.4601   \n",
       "1             0.1866           0.2416                0.1860          0.2750   \n",
       "2             0.4245           0.4504                0.2430          0.3613   \n",
       "3             0.8663           0.6869                0.2575          0.6638   \n",
       "4             0.2050           0.4000                0.1625          0.2364   \n",
       "\n",
       "   fractal_dimension_worst  Unnamed: 32  \n",
       "0                  0.11890          NaN  \n",
       "1                  0.08902          NaN  \n",
       "2                  0.08758          NaN  \n",
       "3                  0.17300          NaN  \n",
       "4                  0.07678          NaN  \n",
       "\n",
       "[5 rows x 33 columns]"
      ]
     },
     "execution_count": 4,
     "metadata": {},
     "output_type": "execute_result"
    }
   ],
   "source": [
    "df.head()"
   ]
  },
  {
   "cell_type": "code",
   "execution_count": 5,
   "id": "aa333c92",
   "metadata": {
    "execution": {
     "iopub.execute_input": "2024-06-09T16:57:25.029457Z",
     "iopub.status.busy": "2024-06-09T16:57:25.029066Z",
     "iopub.status.idle": "2024-06-09T16:57:25.037077Z",
     "shell.execute_reply": "2024-06-09T16:57:25.035850Z"
    },
    "papermill": {
     "duration": 0.018621,
     "end_time": "2024-06-09T16:57:25.039704",
     "exception": false,
     "start_time": "2024-06-09T16:57:25.021083",
     "status": "completed"
    },
    "tags": []
   },
   "outputs": [
    {
     "data": {
      "text/plain": [
       "Index(['id', 'diagnosis', 'radius_mean', 'texture_mean', 'perimeter_mean',\n",
       "       'area_mean', 'smoothness_mean', 'compactness_mean', 'concavity_mean',\n",
       "       'concave points_mean', 'symmetry_mean', 'fractal_dimension_mean',\n",
       "       'radius_se', 'texture_se', 'perimeter_se', 'area_se', 'smoothness_se',\n",
       "       'compactness_se', 'concavity_se', 'concave points_se', 'symmetry_se',\n",
       "       'fractal_dimension_se', 'radius_worst', 'texture_worst',\n",
       "       'perimeter_worst', 'area_worst', 'smoothness_worst',\n",
       "       'compactness_worst', 'concavity_worst', 'concave points_worst',\n",
       "       'symmetry_worst', 'fractal_dimension_worst', 'Unnamed: 32'],\n",
       "      dtype='object')"
      ]
     },
     "execution_count": 5,
     "metadata": {},
     "output_type": "execute_result"
    }
   ],
   "source": [
    "df.columns"
   ]
  },
  {
   "cell_type": "code",
   "execution_count": 6,
   "id": "63819c7d",
   "metadata": {
    "execution": {
     "iopub.execute_input": "2024-06-09T16:57:25.055241Z",
     "iopub.status.busy": "2024-06-09T16:57:25.054844Z",
     "iopub.status.idle": "2024-06-09T16:57:25.060236Z",
     "shell.execute_reply": "2024-06-09T16:57:25.059040Z"
    },
    "papermill": {
     "duration": 0.01624,
     "end_time": "2024-06-09T16:57:25.062827",
     "exception": false,
     "start_time": "2024-06-09T16:57:25.046587",
     "status": "completed"
    },
    "tags": []
   },
   "outputs": [],
   "source": [
    "y = df['diagnosis']"
   ]
  },
  {
   "cell_type": "code",
   "execution_count": 7,
   "id": "72fe51d8",
   "metadata": {
    "execution": {
     "iopub.execute_input": "2024-06-09T16:57:25.078415Z",
     "iopub.status.busy": "2024-06-09T16:57:25.078008Z",
     "iopub.status.idle": "2024-06-09T16:57:25.084573Z",
     "shell.execute_reply": "2024-06-09T16:57:25.083294Z"
    },
    "papermill": {
     "duration": 0.017326,
     "end_time": "2024-06-09T16:57:25.087137",
     "exception": false,
     "start_time": "2024-06-09T16:57:25.069811",
     "status": "completed"
    },
    "tags": []
   },
   "outputs": [],
   "source": [
    "X = df.drop(['id', 'diagnosis', 'Unnamed: 32'], axis=1)"
   ]
  },
  {
   "cell_type": "code",
   "execution_count": 8,
   "id": "5283ec3d",
   "metadata": {
    "execution": {
     "iopub.execute_input": "2024-06-09T16:57:25.102727Z",
     "iopub.status.busy": "2024-06-09T16:57:25.102271Z",
     "iopub.status.idle": "2024-06-09T16:57:26.578574Z",
     "shell.execute_reply": "2024-06-09T16:57:26.577469Z"
    },
    "papermill": {
     "duration": 1.487425,
     "end_time": "2024-06-09T16:57:26.581484",
     "exception": false,
     "start_time": "2024-06-09T16:57:25.094059",
     "status": "completed"
    },
    "tags": []
   },
   "outputs": [],
   "source": [
    "from sklearn.model_selection import train_test_split\n",
    "X_train, X_test, y_train, y_test = train_test_split(X, y, train_size=0.7, random_state=2529)"
   ]
  },
  {
   "cell_type": "code",
   "execution_count": 9,
   "id": "39b0cc42",
   "metadata": {
    "execution": {
     "iopub.execute_input": "2024-06-09T16:57:26.596897Z",
     "iopub.status.busy": "2024-06-09T16:57:26.596478Z",
     "iopub.status.idle": "2024-06-09T16:57:26.723315Z",
     "shell.execute_reply": "2024-06-09T16:57:26.721968Z"
    },
    "papermill": {
     "duration": 0.138137,
     "end_time": "2024-06-09T16:57:26.726437",
     "exception": false,
     "start_time": "2024-06-09T16:57:26.588300",
     "status": "completed"
    },
    "tags": []
   },
   "outputs": [],
   "source": [
    "from sklearn.linear_model import LogisticRegression\n",
    "model = LogisticRegression(max_iter=10000)"
   ]
  },
  {
   "cell_type": "code",
   "execution_count": 10,
   "id": "a424e34b",
   "metadata": {
    "execution": {
     "iopub.execute_input": "2024-06-09T16:57:26.742270Z",
     "iopub.status.busy": "2024-06-09T16:57:26.741808Z",
     "iopub.status.idle": "2024-06-09T16:57:27.769372Z",
     "shell.execute_reply": "2024-06-09T16:57:27.767730Z"
    },
    "papermill": {
     "duration": 1.040461,
     "end_time": "2024-06-09T16:57:27.773993",
     "exception": false,
     "start_time": "2024-06-09T16:57:26.733532",
     "status": "completed"
    },
    "tags": []
   },
   "outputs": [
    {
     "data": {
      "text/html": [
       "<style>#sk-container-id-1 {color: black;background-color: white;}#sk-container-id-1 pre{padding: 0;}#sk-container-id-1 div.sk-toggleable {background-color: white;}#sk-container-id-1 label.sk-toggleable__label {cursor: pointer;display: block;width: 100%;margin-bottom: 0;padding: 0.3em;box-sizing: border-box;text-align: center;}#sk-container-id-1 label.sk-toggleable__label-arrow:before {content: \"▸\";float: left;margin-right: 0.25em;color: #696969;}#sk-container-id-1 label.sk-toggleable__label-arrow:hover:before {color: black;}#sk-container-id-1 div.sk-estimator:hover label.sk-toggleable__label-arrow:before {color: black;}#sk-container-id-1 div.sk-toggleable__content {max-height: 0;max-width: 0;overflow: hidden;text-align: left;background-color: #f0f8ff;}#sk-container-id-1 div.sk-toggleable__content pre {margin: 0.2em;color: black;border-radius: 0.25em;background-color: #f0f8ff;}#sk-container-id-1 input.sk-toggleable__control:checked~div.sk-toggleable__content {max-height: 200px;max-width: 100%;overflow: auto;}#sk-container-id-1 input.sk-toggleable__control:checked~label.sk-toggleable__label-arrow:before {content: \"▾\";}#sk-container-id-1 div.sk-estimator input.sk-toggleable__control:checked~label.sk-toggleable__label {background-color: #d4ebff;}#sk-container-id-1 div.sk-label input.sk-toggleable__control:checked~label.sk-toggleable__label {background-color: #d4ebff;}#sk-container-id-1 input.sk-hidden--visually {border: 0;clip: rect(1px 1px 1px 1px);clip: rect(1px, 1px, 1px, 1px);height: 1px;margin: -1px;overflow: hidden;padding: 0;position: absolute;width: 1px;}#sk-container-id-1 div.sk-estimator {font-family: monospace;background-color: #f0f8ff;border: 1px dotted black;border-radius: 0.25em;box-sizing: border-box;margin-bottom: 0.5em;}#sk-container-id-1 div.sk-estimator:hover {background-color: #d4ebff;}#sk-container-id-1 div.sk-parallel-item::after {content: \"\";width: 100%;border-bottom: 1px solid gray;flex-grow: 1;}#sk-container-id-1 div.sk-label:hover label.sk-toggleable__label {background-color: #d4ebff;}#sk-container-id-1 div.sk-serial::before {content: \"\";position: absolute;border-left: 1px solid gray;box-sizing: border-box;top: 0;bottom: 0;left: 50%;z-index: 0;}#sk-container-id-1 div.sk-serial {display: flex;flex-direction: column;align-items: center;background-color: white;padding-right: 0.2em;padding-left: 0.2em;position: relative;}#sk-container-id-1 div.sk-item {position: relative;z-index: 1;}#sk-container-id-1 div.sk-parallel {display: flex;align-items: stretch;justify-content: center;background-color: white;position: relative;}#sk-container-id-1 div.sk-item::before, #sk-container-id-1 div.sk-parallel-item::before {content: \"\";position: absolute;border-left: 1px solid gray;box-sizing: border-box;top: 0;bottom: 0;left: 50%;z-index: -1;}#sk-container-id-1 div.sk-parallel-item {display: flex;flex-direction: column;z-index: 1;position: relative;background-color: white;}#sk-container-id-1 div.sk-parallel-item:first-child::after {align-self: flex-end;width: 50%;}#sk-container-id-1 div.sk-parallel-item:last-child::after {align-self: flex-start;width: 50%;}#sk-container-id-1 div.sk-parallel-item:only-child::after {width: 0;}#sk-container-id-1 div.sk-dashed-wrapped {border: 1px dashed gray;margin: 0 0.4em 0.5em 0.4em;box-sizing: border-box;padding-bottom: 0.4em;background-color: white;}#sk-container-id-1 div.sk-label label {font-family: monospace;font-weight: bold;display: inline-block;line-height: 1.2em;}#sk-container-id-1 div.sk-label-container {text-align: center;}#sk-container-id-1 div.sk-container {/* jupyter's `normalize.less` sets `[hidden] { display: none; }` but bootstrap.min.css set `[hidden] { display: none !important; }` so we also need the `!important` here to be able to override the default hidden behavior on the sphinx rendered scikit-learn.org. See: https://github.com/scikit-learn/scikit-learn/issues/21755 */display: inline-block !important;position: relative;}#sk-container-id-1 div.sk-text-repr-fallback {display: none;}</style><div id=\"sk-container-id-1\" class=\"sk-top-container\"><div class=\"sk-text-repr-fallback\"><pre>LogisticRegression(max_iter=10000)</pre><b>In a Jupyter environment, please rerun this cell to show the HTML representation or trust the notebook. <br />On GitHub, the HTML representation is unable to render, please try loading this page with nbviewer.org.</b></div><div class=\"sk-container\" hidden><div class=\"sk-item\"><div class=\"sk-estimator sk-toggleable\"><input class=\"sk-toggleable__control sk-hidden--visually\" id=\"sk-estimator-id-1\" type=\"checkbox\" checked><label for=\"sk-estimator-id-1\" class=\"sk-toggleable__label sk-toggleable__label-arrow\">LogisticRegression</label><div class=\"sk-toggleable__content\"><pre>LogisticRegression(max_iter=10000)</pre></div></div></div></div></div>"
      ],
      "text/plain": [
       "LogisticRegression(max_iter=10000)"
      ]
     },
     "execution_count": 10,
     "metadata": {},
     "output_type": "execute_result"
    }
   ],
   "source": [
    "model.fit(X,y)"
   ]
  },
  {
   "cell_type": "code",
   "execution_count": 11,
   "id": "9b5c4715",
   "metadata": {
    "execution": {
     "iopub.execute_input": "2024-06-09T16:57:27.805943Z",
     "iopub.status.busy": "2024-06-09T16:57:27.805277Z",
     "iopub.status.idle": "2024-06-09T16:57:27.844339Z",
     "shell.execute_reply": "2024-06-09T16:57:27.842908Z"
    },
    "papermill": {
     "duration": 0.062871,
     "end_time": "2024-06-09T16:57:27.851730",
     "exception": false,
     "start_time": "2024-06-09T16:57:27.788859",
     "status": "completed"
    },
    "tags": []
   },
   "outputs": [
    {
     "name": "stdout",
     "output_type": "stream",
     "text": [
      "     radius_mean  texture_mean  perimeter_mean  area_mean  smoothness_mean  \\\n",
      "513       14.580         13.66           94.29      658.8          0.09832   \n",
      "498       18.490         17.52          121.30     1068.0          0.10120   \n",
      "512       13.400         20.52           88.64      556.7          0.11060   \n",
      "88        12.360         21.80           79.78      466.1          0.08772   \n",
      "33        19.270         26.47          127.90     1162.0          0.09401   \n",
      "..           ...           ...             ...        ...              ...   \n",
      "339       23.510         24.27          155.10     1747.0          0.10690   \n",
      "61         8.598         20.98           54.66      221.8          0.12430   \n",
      "410       11.360         17.57           72.49      399.8          0.08858   \n",
      "291       14.960         19.10           97.03      687.3          0.08992   \n",
      "463       11.600         18.36           73.88      412.7          0.08508   \n",
      "\n",
      "     compactness_mean  concavity_mean  concave points_mean  symmetry_mean  \\\n",
      "513           0.08918         0.08222             0.043490         0.1739   \n",
      "498           0.13170         0.14910             0.091830         0.1832   \n",
      "512           0.14690         0.14450             0.081720         0.2116   \n",
      "88            0.09445         0.06015             0.037450         0.1930   \n",
      "33            0.17190         0.16570             0.075930         0.1853   \n",
      "..                ...             ...                  ...            ...   \n",
      "339           0.12830         0.23080             0.141000         0.1797   \n",
      "61            0.08963         0.03000             0.009259         0.1828   \n",
      "410           0.05313         0.02783             0.021000         0.1601   \n",
      "291           0.09823         0.05940             0.048190         0.1879   \n",
      "463           0.05855         0.03367             0.017770         0.1516   \n",
      "\n",
      "     fractal_dimension_mean  ...  radius_worst  texture_worst  \\\n",
      "513                 0.05640  ...        16.760          17.24   \n",
      "498                 0.06697  ...        22.750          22.88   \n",
      "512                 0.07325  ...        16.410          29.66   \n",
      "88                  0.06404  ...        13.830          30.50   \n",
      "33                  0.06261  ...        24.150          30.90   \n",
      "..                      ...  ...           ...            ...   \n",
      "339                 0.05506  ...        30.670          30.73   \n",
      "61                  0.06757  ...         9.565          27.04   \n",
      "410                 0.05913  ...        13.050          36.32   \n",
      "291                 0.05852  ...        16.250          26.19   \n",
      "463                 0.05859  ...        12.770          24.02   \n",
      "\n",
      "     perimeter_worst  area_worst  smoothness_worst  compactness_worst  \\\n",
      "513           108.50       862.0            0.1223             0.1928   \n",
      "498           146.40      1600.0            0.1412             0.3089   \n",
      "512           113.30       844.4            0.1574             0.3856   \n",
      "88             91.46       574.7            0.1304             0.2463   \n",
      "33            161.40      1813.0            0.1509             0.6590   \n",
      "..               ...         ...               ...                ...   \n",
      "339           202.40      2906.0            0.1515             0.2678   \n",
      "61             62.06       273.9            0.1639             0.1698   \n",
      "410            85.07       521.3            0.1453             0.1622   \n",
      "291           109.10       809.8            0.1313             0.3030   \n",
      "463            82.68       495.1            0.1342             0.1808   \n",
      "\n",
      "     concavity_worst  concave points_worst  symmetry_worst  \\\n",
      "513          0.24920               0.09186          0.2626   \n",
      "498          0.35330               0.16630          0.2510   \n",
      "512          0.51060               0.20510          0.3585   \n",
      "88           0.24340               0.12050          0.2972   \n",
      "33           0.60910               0.17850          0.3672   \n",
      "..               ...                   ...             ...   \n",
      "339          0.48190               0.20890          0.2593   \n",
      "61           0.09001               0.02778          0.2972   \n",
      "410          0.18110               0.08698          0.2973   \n",
      "291          0.18040               0.14890          0.2962   \n",
      "463          0.18600               0.08288          0.3210   \n",
      "\n",
      "     fractal_dimension_worst  \n",
      "513                  0.07048  \n",
      "498                  0.09445  \n",
      "512                  0.11090  \n",
      "88                   0.09261  \n",
      "33                   0.11230  \n",
      "..                       ...  \n",
      "339                  0.07738  \n",
      "61                   0.07712  \n",
      "410                  0.07745  \n",
      "291                  0.08472  \n",
      "463                  0.07863  \n",
      "\n",
      "[171 rows x 30 columns]\n"
     ]
    }
   ],
   "source": [
    "print(X_test)"
   ]
  },
  {
   "cell_type": "code",
   "execution_count": 12,
   "id": "1cbafe3c",
   "metadata": {
    "execution": {
     "iopub.execute_input": "2024-06-09T16:57:27.882489Z",
     "iopub.status.busy": "2024-06-09T16:57:27.882091Z",
     "iopub.status.idle": "2024-06-09T16:57:27.892005Z",
     "shell.execute_reply": "2024-06-09T16:57:27.890792Z"
    },
    "papermill": {
     "duration": 0.026963,
     "end_time": "2024-06-09T16:57:27.894474",
     "exception": false,
     "start_time": "2024-06-09T16:57:27.867511",
     "status": "completed"
    },
    "tags": []
   },
   "outputs": [
    {
     "data": {
      "text/plain": [
       "array(['B', 'M', 'M', 'B', 'M', 'B', 'M', 'B', 'M', 'B', 'B', 'M', 'B',\n",
       "       'M', 'B', 'B', 'M', 'B', 'M', 'B', 'B', 'B', 'B', 'B', 'B', 'M',\n",
       "       'B', 'B', 'M', 'B', 'M', 'B', 'B', 'B', 'B', 'M', 'B', 'B', 'B',\n",
       "       'M', 'M', 'M', 'M', 'M', 'B', 'B', 'M', 'M', 'M', 'B', 'B', 'B',\n",
       "       'B', 'B', 'B', 'B', 'B', 'M', 'M', 'M', 'B', 'M', 'B', 'M', 'M',\n",
       "       'M', 'M', 'B', 'M', 'M', 'B', 'B', 'B', 'M', 'B', 'M', 'B', 'B',\n",
       "       'M', 'M', 'M', 'B', 'B', 'M', 'M', 'M', 'B', 'B', 'B', 'B', 'M',\n",
       "       'B', 'B', 'B', 'M', 'B', 'M', 'B', 'B', 'M', 'B', 'M', 'B', 'B',\n",
       "       'B', 'M', 'B', 'B', 'M', 'B', 'B', 'B', 'M', 'B', 'B', 'B', 'B',\n",
       "       'M', 'B', 'B', 'M', 'B', 'M', 'B', 'M', 'M', 'B', 'B', 'B', 'M',\n",
       "       'M', 'B', 'M', 'M', 'M', 'B', 'B', 'M', 'B', 'M', 'B', 'M', 'B',\n",
       "       'M', 'B', 'M', 'B', 'B', 'B', 'B', 'M', 'M', 'B', 'B', 'B', 'B',\n",
       "       'B', 'M', 'M', 'M', 'M', 'B', 'B', 'B', 'M', 'B', 'M', 'B', 'B',\n",
       "       'B', 'B'], dtype=object)"
      ]
     },
     "execution_count": 12,
     "metadata": {},
     "output_type": "execute_result"
    }
   ],
   "source": [
    "y_pred = model.predict(X_test)\n",
    "y_pred"
   ]
  },
  {
   "cell_type": "code",
   "execution_count": 13,
   "id": "9e8ba697",
   "metadata": {
    "execution": {
     "iopub.execute_input": "2024-06-09T16:57:27.912128Z",
     "iopub.status.busy": "2024-06-09T16:57:27.911701Z",
     "iopub.status.idle": "2024-06-09T16:57:27.923442Z",
     "shell.execute_reply": "2024-06-09T16:57:27.922337Z"
    },
    "papermill": {
     "duration": 0.023683,
     "end_time": "2024-06-09T16:57:27.926164",
     "exception": false,
     "start_time": "2024-06-09T16:57:27.902481",
     "status": "completed"
    },
    "tags": []
   },
   "outputs": [
    {
     "data": {
      "text/plain": [
       "array([[99,  3],\n",
       "       [ 2, 67]])"
      ]
     },
     "execution_count": 13,
     "metadata": {},
     "output_type": "execute_result"
    }
   ],
   "source": [
    "from sklearn.metrics import confusion_matrix, accuracy_score, classification_report\n",
    "confusion_matrix(y_test, y_pred)"
   ]
  },
  {
   "cell_type": "code",
   "execution_count": 14,
   "id": "6d9c475e",
   "metadata": {
    "execution": {
     "iopub.execute_input": "2024-06-09T16:57:27.943597Z",
     "iopub.status.busy": "2024-06-09T16:57:27.942690Z",
     "iopub.status.idle": "2024-06-09T16:57:27.951643Z",
     "shell.execute_reply": "2024-06-09T16:57:27.950424Z"
    },
    "papermill": {
     "duration": 0.020388,
     "end_time": "2024-06-09T16:57:27.954259",
     "exception": false,
     "start_time": "2024-06-09T16:57:27.933871",
     "status": "completed"
    },
    "tags": []
   },
   "outputs": [
    {
     "data": {
      "text/plain": [
       "0.9707602339181286"
      ]
     },
     "execution_count": 14,
     "metadata": {},
     "output_type": "execute_result"
    }
   ],
   "source": [
    "accuracy_score(y_test, y_pred)"
   ]
  },
  {
   "cell_type": "code",
   "execution_count": 15,
   "id": "6210e218",
   "metadata": {
    "execution": {
     "iopub.execute_input": "2024-06-09T16:57:27.972061Z",
     "iopub.status.busy": "2024-06-09T16:57:27.971646Z",
     "iopub.status.idle": "2024-06-09T16:57:27.997543Z",
     "shell.execute_reply": "2024-06-09T16:57:27.996064Z"
    },
    "papermill": {
     "duration": 0.038022,
     "end_time": "2024-06-09T16:57:28.000213",
     "exception": false,
     "start_time": "2024-06-09T16:57:27.962191",
     "status": "completed"
    },
    "tags": []
   },
   "outputs": [
    {
     "name": "stdout",
     "output_type": "stream",
     "text": [
      "              precision    recall  f1-score   support\n",
      "\n",
      "           B       0.98      0.97      0.98       102\n",
      "           M       0.96      0.97      0.96        69\n",
      "\n",
      "    accuracy                           0.97       171\n",
      "   macro avg       0.97      0.97      0.97       171\n",
      "weighted avg       0.97      0.97      0.97       171\n",
      "\n"
     ]
    }
   ],
   "source": [
    "print(classification_report(y_test, y_pred))"
   ]
  },
  {
   "cell_type": "code",
   "execution_count": null,
   "id": "d3f9876f",
   "metadata": {
    "papermill": {
     "duration": 0.007702,
     "end_time": "2024-06-09T16:57:28.015804",
     "exception": false,
     "start_time": "2024-06-09T16:57:28.008102",
     "status": "completed"
    },
    "tags": []
   },
   "outputs": [],
   "source": []
  }
 ],
 "metadata": {
  "kaggle": {
   "accelerator": "none",
   "dataSources": [],
   "dockerImageVersionId": 30732,
   "isGpuEnabled": false,
   "isInternetEnabled": true,
   "language": "python",
   "sourceType": "notebook"
  },
  "kernelspec": {
   "display_name": "Python 3",
   "language": "python",
   "name": "python3"
  },
  "language_info": {
   "codemirror_mode": {
    "name": "ipython",
    "version": 3
   },
   "file_extension": ".py",
   "mimetype": "text/x-python",
   "name": "python",
   "nbconvert_exporter": "python",
   "pygments_lexer": "ipython3",
   "version": "3.10.13"
  },
  "papermill": {
   "default_parameters": {},
   "duration": 8.34655,
   "end_time": "2024-06-09T16:57:28.645947",
   "environment_variables": {},
   "exception": null,
   "input_path": "__notebook__.ipynb",
   "output_path": "__notebook__.ipynb",
   "parameters": {},
   "start_time": "2024-06-09T16:57:20.299397",
   "version": "2.5.0"
  }
 },
 "nbformat": 4,
 "nbformat_minor": 5
}
